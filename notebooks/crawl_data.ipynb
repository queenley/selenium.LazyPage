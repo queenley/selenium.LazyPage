{
 "cells": [
  {
   "cell_type": "code",
   "execution_count": 1,
   "id": "b98285a0-24a6-4d61-a5f9-70655aa246c3",
   "metadata": {},
   "outputs": [],
   "source": [
    "from selenium import webdriver\n",
    "from selenium.webdriver.common.by import By\n",
    "from selenium.webdriver.support.ui import WebDriverWait\n",
    "from selenium.webdriver.support import expected_conditions as EC\n",
    "from selenium.webdriver.common.action_chains import ActionChains\n",
    "from selenium.webdriver.common.keys import Keys\n",
    "from selenium.webdriver.chrome.options import Options\n",
    "from time import sleep\n",
    "import pandas as pd\n",
    "from tqdm import tqdm\n",
    "import time\n",
    "from bs4 import BeautifulSoup\n",
    "import requests"
   ]
  },
  {
   "cell_type": "code",
   "execution_count": 90,
   "id": "d118959c-7223-4261-8cbb-64a7f11305d5",
   "metadata": {},
   "outputs": [],
   "source": [
    "DRIVER_PATH = 'chromedriver'\n",
    "options = Options()\n",
    "options.add_argument('--headless')\n",
    "driver = webdriver.Chrome(executable_path=DRIVER_PATH, chrome_options=options)"
   ]
  },
  {
   "cell_type": "code",
   "execution_count": 91,
   "id": "142d390f-cbd5-4a68-914f-4bdd3abea237",
   "metadata": {},
   "outputs": [],
   "source": [
    "root_url = \"https://www.sephora.com/\"\n",
    "driver.get(root_url)"
   ]
  },
  {
   "cell_type": "code",
   "execution_count": 92,
   "id": "05115d32-94b3-469c-b533-424c640ad3cb",
   "metadata": {},
   "outputs": [],
   "source": [
    "click_title = WebDriverWait(driver, 50).until(EC.element_to_be_clickable((By.LINK_TEXT, \"Makeup\")))"
   ]
  },
  {
   "cell_type": "code",
   "execution_count": 93,
   "id": "f36a3ff5-d288-4198-8a03-d7f77146eb19",
   "metadata": {},
   "outputs": [],
   "source": [
    "action = ActionChains(driver)    \n",
    "action.click(click_title).key_down(Keys.CONTROL).key_up(Keys.CONTROL).perform() "
   ]
  },
  {
   "cell_type": "code",
   "execution_count": 94,
   "id": "f2359788-2e2a-42c7-bb4e-b79c8f1c19f4",
   "metadata": {},
   "outputs": [],
   "source": [
    "sleep(10)"
   ]
  },
  {
   "cell_type": "code",
   "execution_count": 95,
   "id": "39bfb552-3153-455d-9e9c-2c106533107e",
   "metadata": {},
   "outputs": [],
   "source": [
    "click_title.click()"
   ]
  },
  {
   "cell_type": "code",
   "execution_count": 96,
   "id": "58ff1e29-6adb-4f7b-8deb-fbaa219f3fd1",
   "metadata": {},
   "outputs": [
    {
     "data": {
      "text/plain": [
       "'https://www.sephora.com/shop/makeup-cosmetics'"
      ]
     },
     "execution_count": 96,
     "metadata": {},
     "output_type": "execute_result"
    }
   ],
   "source": [
    "current_url = driver.current_url\n",
    "current_url"
   ]
  },
  {
   "cell_type": "code",
   "execution_count": 98,
   "id": "8cb890d0-75ec-4aa4-bf50-0b7307c90fd9",
   "metadata": {},
   "outputs": [],
   "source": [
    "def get_url(height):\n",
    "    all_urls = set()\n",
    "    \n",
    "    # giving some time to load\n",
    "    page = 1\n",
    "    while True:\n",
    "        product_url = f\"{current_url}?currentPage={page}\"\n",
    "        driver.get(product_url)\n",
    "        time.sleep(10)\n",
    "        # Scroll down until no more content is loaded\n",
    "        # scrolling once code        \n",
    "        driver.execute_script(f\"window.scrollTo(0, {height});\")\n",
    "        # giving time to load\n",
    "        time.sleep(10) # wait for content to load\n",
    "\n",
    "        elm_products = driver.find_elements(By.CSS_SELECTOR, \"body > div:nth-child(3) > div > div > div > div.css-1t2x5d0.eanm77i0 > main > div:nth-child(3) > div.css-1322gsb > * > a\")\n",
    "        for product in elm_products:\n",
    "            url = product.get_attribute(\"href\")\n",
    "            all_urls.add(url)\n",
    "        \n",
    "        height += 200\n",
    "        print(len(all_urls))\n",
    "        if len(all_urls) == 60*page:\n",
    "            print(f\"Loaded all urls from the page {page}\")      \n",
    "            page += 1       \n",
    "            height = 300\n",
    "\n",
    "        if page == 46:\n",
    "            break\n",
    "        \n",
    "    return all_urls"
   ]
  },
  {
   "cell_type": "code",
   "execution_count": null,
   "id": "418f0969-f0e6-45fb-bdb5-3d3d55a15daa",
   "metadata": {},
   "outputs": [
    {
     "name": "stdout",
     "output_type": "stream",
     "text": [
      "6\n",
      "6\n",
      "9\n",
      "9\n",
      "13\n",
      "13\n",
      "16\n",
      "16\n",
      "20\n",
      "20\n",
      "24\n",
      "24\n",
      "28\n",
      "32\n",
      "32\n",
      "36\n",
      "36\n",
      "40\n",
      "40\n",
      "44\n",
      "44\n",
      "48\n",
      "52\n",
      "52\n",
      "56\n",
      "56\n",
      "60\n",
      "Loaded all urls from the page 1\n",
      "66\n",
      "66\n",
      "69\n",
      "69\n",
      "73\n",
      "73\n",
      "76\n",
      "76\n",
      "80\n",
      "80\n",
      "84\n",
      "88\n",
      "88\n",
      "92\n",
      "92\n",
      "96\n",
      "100\n",
      "100\n",
      "104\n",
      "104\n",
      "108\n",
      "108\n",
      "112\n",
      "116\n",
      "116\n",
      "120\n",
      "Loaded all urls from the page 2\n",
      "126\n",
      "126\n",
      "129\n",
      "129\n",
      "133\n",
      "133\n",
      "136\n",
      "136\n",
      "140\n",
      "144\n",
      "144\n",
      "148\n",
      "148\n",
      "152\n",
      "152\n",
      "156\n",
      "160\n",
      "160\n",
      "164\n",
      "164\n",
      "168\n",
      "168\n",
      "172\n",
      "172\n",
      "176\n",
      "179\n",
      "179\n",
      "179\n",
      "179\n",
      "179\n",
      "179\n",
      "179\n",
      "179\n",
      "179\n",
      "179\n"
     ]
    }
   ],
   "source": [
    "all_urls = get_url(300)"
   ]
  },
  {
   "cell_type": "code",
   "execution_count": 10,
   "id": "1c6e3fc1-7102-499c-9dfa-7b63d5c1a30a",
   "metadata": {},
   "outputs": [],
   "source": []
  },
  {
   "cell_type": "code",
   "execution_count": 526,
   "id": "d006f54f",
   "metadata": {},
   "outputs": [],
   "source": [
    "url = 'https://www.sephora.com/product/makeup-by-mario-soft-sculpt-shaping-stick-P472327?skuId=2457299&icid2=products%20grid:p472327:product'\n",
    "driver.get(url)"
   ]
  },
  {
   "cell_type": "code",
   "execution_count": 527,
   "id": "c5878aee-7b8b-4189-8bc4-149962d8a45d",
   "metadata": {},
   "outputs": [],
   "source": [
    "dfcg = pd.DataFrame(columns=['url', 'product name', 'full content'])\n",
    "dfcg.at[len(dfcg), 'url'] = url"
   ]
  },
  {
   "cell_type": "code",
   "execution_count": 528,
   "id": "ca29974d",
   "metadata": {},
   "outputs": [],
   "source": [
    "name_product = driver.find_element(By.XPATH, \"//span[contains(@data-at, 'product_name')]\")\n",
    "\n",
    "dfcg.at[len(dfcg)-1, 'product name'] = name_product.text"
   ]
  },
  {
   "cell_type": "code",
   "execution_count": 529,
   "id": "5c871fb8",
   "metadata": {},
   "outputs": [],
   "source": [
    "elm_contents = driver.find_elements(By.CSS_SELECTOR, \"body > div:nth-child(3) > main > div:nth-child(1) > div.css-32uy52.eanm77i0 > div:nth-child(2) > div > div/*\")\n",
    "\n",
    "# contents = ''\n",
    "# for content in elm_contents:\n",
    "#     contents += content.get_attribute(\"textContent\")\n",
    "#     contents += \"\\n\"\n",
    "    \n",
    "# dfcg.at[len(dfcg)-1, 'full content'] = contents"
   ]
  },
  {
   "cell_type": "code",
   "execution_count": 530,
   "id": "4dfced15-2b34-423b-bfbf-b14d0c1e7759",
   "metadata": {},
   "outputs": [],
   "source": [
    "html_content = elm_contents[0].get_attribute(\"innerHTML\")"
   ]
  },
  {
   "cell_type": "code",
   "execution_count": 542,
   "id": "b44eea49-f716-49e2-a086-1dbd154610e9",
   "metadata": {},
   "outputs": [],
   "source": [
    "soup_content = BeautifulSoup(html_content, 'html.parser')"
   ]
  },
  {
   "cell_type": "code",
   "execution_count": 543,
   "id": "1c76dc4a-e8a0-45ed-91dd-c874c28892d7",
   "metadata": {},
   "outputs": [
    {
     "data": {
      "text/plain": [
       "<b>What it is: </b>A dual-ended cream shaping stick that is buildable and swipes on seamlessly for true-to-skin definition that dries down to a natural matte finish.<br/><b>Ingredient Callouts:</b> It is cruelty-free.<br/><br/><b>What Else You Need to Know:</b> This dual-ended shaping stick combines Mario’s signature contour technique into one product that creates an effortless, softly sculpted look. The shades complement complexions regardless of undertone and are never orange or muddy. They also feature a removable angled buffing brush for effortless application.<br/><br/>This product is an Allure Best of Beauty award winner."
      ]
     },
     "execution_count": 543,
     "metadata": {},
     "output_type": "execute_result"
    }
   ],
   "source": [
    "soup_content"
   ]
  },
  {
   "cell_type": "code",
   "execution_count": 532,
   "id": "c1cdcecd-b76c-41f9-8385-9d0d9bb2ddf7",
   "metadata": {},
   "outputs": [
    {
     "name": "stdout",
     "output_type": "stream",
     "text": [
      "What it is:\n",
      "A dual-ended cream shaping stick that is buildable and swipes on seamlessly for true-to-skin definition that dries down to a natural matte finish.\n",
      "Ingredient Callouts:\n",
      "It is cruelty-free.\n",
      "What Else You Need to Know:\n",
      "This dual-ended shaping stick combines Mario’s signature contour technique into one product that creates an effortless, softly sculpted look. The shades complement complexions regardless of undertone and are never orange or muddy. They also feature a removable angled buffing brush for effortless application.\n",
      "This product is an Allure Best of Beauty award winner.\n"
     ]
    }
   ],
   "source": [
    "print(soup_content.get_text(separator='\\n', strip = True))"
   ]
  },
  {
   "cell_type": "code",
   "execution_count": 539,
   "id": "83662fe9-34e2-419c-83ad-767af47b0607",
   "metadata": {},
   "outputs": [],
   "source": [
    "for elem in soup_content.find_all([\"a\", \"p\", \"div\", \"h3\", \"br\"]):\n",
    "    elem.replace_with(elem.text + \"\\n\")"
   ]
  },
  {
   "cell_type": "code",
   "execution_count": 540,
   "id": "79b8f478-c4c5-43c0-962d-faaabb3152f6",
   "metadata": {},
   "outputs": [
    {
     "data": {
      "text/plain": [
       "<b>What it is: </b>A dual-ended cream shaping stick that is buildable and swipes on seamlessly for true-to-skin definition that dries down to a natural matte finish.\n",
       "<b>Ingredient Callouts:</b> It is cruelty-free.\n",
       "\n",
       "<b>What Else You Need to Know:</b> This dual-ended shaping stick combines Mario’s signature contour technique into one product that creates an effortless, softly sculpted look. The shades complement complexions regardless of undertone and are never orange or muddy. They also feature a removable angled buffing brush for effortless application.\n",
       "\n",
       "This product is an Allure Best of Beauty award winner."
      ]
     },
     "execution_count": 540,
     "metadata": {},
     "output_type": "execute_result"
    }
   ],
   "source": [
    "soup_content"
   ]
  },
  {
   "cell_type": "code",
   "execution_count": null,
   "id": "989af67f-1a65-44af-8520-270b7cfc78c7",
   "metadata": {},
   "outputs": [],
   "source": []
  }
 ],
 "metadata": {
  "kernelspec": {
   "display_name": "data",
   "language": "python",
   "name": "data"
  },
  "language_info": {
   "codemirror_mode": {
    "name": "ipython",
    "version": 3
   },
   "file_extension": ".py",
   "mimetype": "text/x-python",
   "name": "python",
   "nbconvert_exporter": "python",
   "pygments_lexer": "ipython3",
   "version": "3.9.16"
  }
 },
 "nbformat": 4,
 "nbformat_minor": 5
}
