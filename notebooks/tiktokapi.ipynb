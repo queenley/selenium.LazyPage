{
 "cells": [
  {
   "cell_type": "code",
   "execution_count": null,
   "id": "11a16af8-6eea-4814-ba8f-13b871ff732f",
   "metadata": {},
   "outputs": [],
   "source": [
    "from TikTokApi import TikTokApi\n",
    "import string\n",
    "import random\n",
    "did=''.join(random.choice(string.digits) for num in range(19))\n",
    "verifyFp=\"verify_YOUR_VERIFYFP_HERE\"\n",
    "api = TikTokApi.get_instance(custom_verifyFp=verifyFp, custom_did=did)\n",
    "print(api.trending())"
   ]
  }
 ],
 "metadata": {
  "kernelspec": {
   "display_name": "Python 3 (ipykernel)",
   "language": "python",
   "name": "python3"
  },
  "language_info": {
   "codemirror_mode": {
    "name": "ipython",
    "version": 3
   },
   "file_extension": ".py",
   "mimetype": "text/x-python",
   "name": "python",
   "nbconvert_exporter": "python",
   "pygments_lexer": "ipython3",
   "version": "3.10.9"
  }
 },
 "nbformat": 4,
 "nbformat_minor": 5
}
