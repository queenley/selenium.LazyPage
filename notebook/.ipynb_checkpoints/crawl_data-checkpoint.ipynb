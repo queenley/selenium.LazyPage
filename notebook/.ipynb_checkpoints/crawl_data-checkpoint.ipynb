{
 "cells": [
  {
   "cell_type": "code",
   "execution_count": 1,
   "id": "b98285a0-24a6-4d61-a5f9-70655aa246c3",
   "metadata": {},
   "outputs": [],
   "source": [
    "from selenium import webdriver\n",
    "from selenium.webdriver.common.by import By\n",
    "from selenium.webdriver.support.ui import WebDriverWait\n",
    "from selenium.webdriver.support import expected_conditions as EC\n",
    "from selenium.webdriver.common.action_chains import ActionChains\n",
    "from selenium.webdriver.common.keys import Keys\n",
    "from time import sleep\n",
    "import pandas as pd\n",
    "from tqdm import tqdm\n",
    "import time\n",
    "from bs4 import BeautifulSoup\n",
    "import requests"
   ]
  },
  {
   "cell_type": "code",
   "execution_count": 2,
   "id": "d118959c-7223-4261-8cbb-64a7f11305d5",
   "metadata": {},
   "outputs": [],
   "source": [
    "DRIVER_PATH = 'chromedriver'\n",
    "# option.add_argument('headless')\n",
    "driver = webdriver.Chrome(executable_path=DRIVER_PATH)"
   ]
  },
  {
   "cell_type": "code",
   "execution_count": 3,
   "id": "142d390f-cbd5-4a68-914f-4bdd3abea237",
   "metadata": {},
   "outputs": [],
   "source": [
    "root_url = \"https://www.sephora.com/\"\n",
    "driver.get(root_url)"
   ]
  },
  {
   "cell_type": "code",
   "execution_count": 4,
   "id": "05115d32-94b3-469c-b533-424c640ad3cb",
   "metadata": {},
   "outputs": [],
   "source": [
    "click_title = WebDriverWait(driver, 50).until(EC.element_to_be_clickable((By.LINK_TEXT, \"Makeup\")))"
   ]
  },
  {
   "cell_type": "code",
   "execution_count": 5,
   "id": "f36a3ff5-d288-4198-8a03-d7f77146eb19",
   "metadata": {},
   "outputs": [],
   "source": [
    "action = ActionChains(driver)    \n",
    "action.click(click_title).key_down(Keys.CONTROL).key_up(Keys.CONTROL).perform() "
   ]
  },
  {
   "cell_type": "code",
   "execution_count": 6,
   "id": "f2359788-2e2a-42c7-bb4e-b79c8f1c19f4",
   "metadata": {},
   "outputs": [],
   "source": [
    "sleep(10)"
   ]
  },
  {
   "cell_type": "code",
   "execution_count": 7,
   "id": "39bfb552-3153-455d-9e9c-2c106533107e",
   "metadata": {},
   "outputs": [],
   "source": [
    "click_title.click()"
   ]
  },
  {
   "cell_type": "code",
   "execution_count": 8,
   "id": "68aea89e-4d51-45e5-b93c-d7efc9009b1f",
   "metadata": {},
   "outputs": [],
   "source": [
    "all_urls = set()"
   ]
  },
  {
   "cell_type": "code",
   "execution_count": 9,
   "id": "8cb890d0-75ec-4aa4-bf50-0b7307c90fd9",
   "metadata": {},
   "outputs": [],
   "source": [
    "def scroll_down(last_height):\n",
    "    #giving some time to load\n",
    "    time.sleep(10)\n",
    "\n",
    "    #getting the height of the webpage for infinite croll web page\n",
    "    # last_height = driver.execute_script(\"return document.body.scrollHeight\")\n",
    "\n",
    "    # Scroll down until no more content is loaded\n",
    "    while True:\n",
    "        #scrolling once code\n",
    "        driver.execute_script(\"window.scrollTo(0, document.body.scrollHeight);\")\n",
    "\n",
    "        #giving time to load\n",
    "        time.sleep(10) # wait for content to load\n",
    "\n",
    "        #checking new height of webpage\n",
    "        new_height = driver.execute_script(\"return document.body.scrollHeight\")\n",
    "\n",
    "        #defining the break condition to stop the execution at the end of the webpage\n",
    "        if new_height == last_height:\n",
    "            break\n",
    "        last_height = new_height         #while loop breaks when the last height of web page will not change "
   ]
  },
  {
   "cell_type": "code",
   "execution_count": 10,
   "id": "cc357a46-5ece-4c2e-964b-bf834f9ecb80",
   "metadata": {},
   "outputs": [],
   "source": [
    "scroll_down(1)"
   ]
  },
  {
   "cell_type": "code",
   "execution_count": null,
   "id": "7ec42d4a-0f24-445a-9304-9e91fd9ba034",
   "metadata": {},
   "outputs": [],
   "source": [
    "from bs4 import BeautifulSoup\n",
    "import urllib.request\n",
    "\n",
    "parser = 'html.parser'  # or 'lxml' (preferred) or 'html5lib', if installed\n",
    "resp = urllib.request.urlopen(\"https://www.sephora.com/shop/makeup-cosmetics\")\n",
    "soup = BeautifulSoup(resp, parser, from_encoding=resp.info().get_param('charset'))\n",
    "\n",
    "for link in soup.find_all('a', href=True):\n",
    "    print(link['href'])"
   ]
  },
  {
   "cell_type": "code",
   "execution_count": null,
   "id": "84fd82eb-f119-4a46-ab81-8d08a4d1e370",
   "metadata": {},
   "outputs": [],
   "source": [
    "import urllib.request\n",
    "\n",
    "user_agent = 'Mozilla/5.0 (Windows; U; Windows NT 5.1; en-US; rv:1.9.0.7) Gecko/2009021910 Firefox/3.0.7'\n",
    "\n",
    "url = \"https://www.sephora.com/shop/makeup-cosmetics\"\n",
    "headers={'User-Agent':user_agent,} \n",
    "\n",
    "request=urllib.request.Request(url,None,headers) #The assembled request\n",
    "response = urllib.request.urlopen(request)\n",
    "data = response.read() # The data u need"
   ]
  },
  {
   "cell_type": "code",
   "execution_count": null,
   "id": "b5f55948-fca2-4038-8e65-41395ab0bd7d",
   "metadata": {},
   "outputs": [],
   "source": [
    "# while True:                    \n",
    "# more_button = WebDriverWait(driver, 50).until(EC.element_to_be_clickable((By.CSS_SELECTOR, \"body > div:nth-child(3) > div > div > div > div.css-1t2x5d0.eanm77i0 > main > div:nth-child(3) > div.css-1322gsb > div.css-unii66 > button\")))\n",
    "# more_button.click()\n",
    "\n",
    "\n",
    "elm_products = driver.find_elements(By.CSS_SELECTOR, \"body > div:nth-child(3) > div > div > div > div.css-1t2x5d0.eanm77i0 > main > div:nth-child(3) > div.css-1322gsb > * > a\")\n",
    "# soup = BeautifulSoup(elm_products, 'html.parser')\n",
    "# all_products = soup.find(\"body\").find_all(\"a\", {'class': 'css-klx76'})\n",
    "for product in elm_products:\n",
    "    # html_product = product.get_attribute('outerHTML')\n",
    "    # soup = BeautifulSoup(html_product, 'html.parser')\n",
    "    # url = soup.find(\"a\")['href'].split(\" \")[0]\n",
    "    url = product.get_attribute(\"href\")\n",
    "    print(url)\n",
    "        \n"
   ]
  },
  {
   "cell_type": "code",
   "execution_count": 10,
   "id": "16094e3d-e890-4fc7-98e6-7149504bdf46",
   "metadata": {},
   "outputs": [
    {
     "data": {
      "text/plain": [
       "<selenium.webdriver.remote.webelement.WebElement (session=\"43027ae70a90cde29ec070921e56e9bf\", element=\"3381C093F59B1247AD86F7AF367D9E0D_element_197\")>"
      ]
     },
     "execution_count": 10,
     "metadata": {},
     "output_type": "execute_result"
    }
   ],
   "source": [
    "product"
   ]
  },
  {
   "cell_type": "code",
   "execution_count": 1036,
   "id": "b7d6cac8-53f2-4665-8ba4-cd429c0515d6",
   "metadata": {},
   "outputs": [],
   "source": []
  },
  {
   "cell_type": "code",
   "execution_count": 1037,
   "id": "a67e1b15-934d-40d2-a834-6a6d66010d5d",
   "metadata": {},
   "outputs": [
    {
     "data": {
      "text/plain": [
       "74"
      ]
     },
     "execution_count": 1037,
     "metadata": {},
     "output_type": "execute_result"
    }
   ],
   "source": [
    "len(elm_products)"
   ]
  },
  {
   "cell_type": "code",
   "execution_count": 987,
   "id": "0d68474e-8411-43e6-9f2d-cebb66c4d0d8",
   "metadata": {},
   "outputs": [],
   "source": [
    "# for elm_product in elm_products:\n",
    "#     html_product = elm_product.get_attribute('outerHTML')\n",
    "#     soup_product = BeautifulSoup(html_product, 'html.parser')\n",
    "#     print(soup_product)\n",
    "#     break"
   ]
  },
  {
   "cell_type": "code",
   "execution_count": 988,
   "id": "599063ae-62fe-4cf5-994f-248a4bca7164",
   "metadata": {},
   "outputs": [],
   "source": []
  },
  {
   "cell_type": "code",
   "execution_count": 989,
   "id": "18b77e9d-9ac1-45a0-85ed-7661c19f8fef",
   "metadata": {},
   "outputs": [],
   "source": []
  },
  {
   "cell_type": "code",
   "execution_count": 970,
   "id": "496253b3-fec3-4b43-bcb2-4dc6fd769127",
   "metadata": {},
   "outputs": [],
   "source": [
    "all_links = []\n",
    "for product in all_products:\n",
    "    all_links.append(product['href'].split(\" \")[0])"
   ]
  },
  {
   "cell_type": "code",
   "execution_count": 991,
   "id": "17e9942a-2c46-4f0a-b06f-6cdf0907b891",
   "metadata": {},
   "outputs": [
    {
     "data": {
      "text/plain": [
       "1078"
      ]
     },
     "execution_count": 991,
     "metadata": {},
     "output_type": "execute_result"
    }
   ],
   "source": [
    "len(all_products)"
   ]
  },
  {
   "cell_type": "code",
   "execution_count": 526,
   "id": "d006f54f",
   "metadata": {},
   "outputs": [],
   "source": [
    "url = 'https://www.sephora.com/product/makeup-by-mario-soft-sculpt-shaping-stick-P472327?skuId=2457299&icid2=products%20grid:p472327:product'\n",
    "driver.get(url)"
   ]
  },
  {
   "cell_type": "code",
   "execution_count": 527,
   "id": "c5878aee-7b8b-4189-8bc4-149962d8a45d",
   "metadata": {},
   "outputs": [],
   "source": [
    "dfcg = pd.DataFrame(columns=['url', 'product name', 'full content'])\n",
    "dfcg.at[len(dfcg), 'url'] = url"
   ]
  },
  {
   "cell_type": "code",
   "execution_count": 528,
   "id": "ca29974d",
   "metadata": {},
   "outputs": [],
   "source": [
    "name_product = driver.find_element(By.XPATH, \"//span[contains(@data-at, 'product_name')]\")\n",
    "\n",
    "dfcg.at[len(dfcg)-1, 'product name'] = name_product.text"
   ]
  },
  {
   "cell_type": "code",
   "execution_count": 529,
   "id": "5c871fb8",
   "metadata": {},
   "outputs": [],
   "source": [
    "elm_contents = driver.find_elements(By.CSS_SELECTOR, \"body > div:nth-child(3) > main > div:nth-child(1) > div.css-32uy52.eanm77i0 > div:nth-child(2) > div > div/*\")\n",
    "\n",
    "# contents = ''\n",
    "# for content in elm_contents:\n",
    "#     contents += content.get_attribute(\"textContent\")\n",
    "#     contents += \"\\n\"\n",
    "    \n",
    "# dfcg.at[len(dfcg)-1, 'full content'] = contents"
   ]
  },
  {
   "cell_type": "code",
   "execution_count": 530,
   "id": "4dfced15-2b34-423b-bfbf-b14d0c1e7759",
   "metadata": {},
   "outputs": [],
   "source": [
    "html_content = elm_contents[0].get_attribute(\"innerHTML\")"
   ]
  },
  {
   "cell_type": "code",
   "execution_count": 542,
   "id": "b44eea49-f716-49e2-a086-1dbd154610e9",
   "metadata": {},
   "outputs": [],
   "source": [
    "soup_content = BeautifulSoup(html_content, 'html.parser')"
   ]
  },
  {
   "cell_type": "code",
   "execution_count": 543,
   "id": "1c76dc4a-e8a0-45ed-91dd-c874c28892d7",
   "metadata": {},
   "outputs": [
    {
     "data": {
      "text/plain": [
       "<b>What it is: </b>A dual-ended cream shaping stick that is buildable and swipes on seamlessly for true-to-skin definition that dries down to a natural matte finish.<br/><b>Ingredient Callouts:</b> It is cruelty-free.<br/><br/><b>What Else You Need to Know:</b> This dual-ended shaping stick combines Mario’s signature contour technique into one product that creates an effortless, softly sculpted look. The shades complement complexions regardless of undertone and are never orange or muddy. They also feature a removable angled buffing brush for effortless application.<br/><br/>This product is an Allure Best of Beauty award winner."
      ]
     },
     "execution_count": 543,
     "metadata": {},
     "output_type": "execute_result"
    }
   ],
   "source": [
    "soup_content"
   ]
  },
  {
   "cell_type": "code",
   "execution_count": 532,
   "id": "c1cdcecd-b76c-41f9-8385-9d0d9bb2ddf7",
   "metadata": {},
   "outputs": [
    {
     "name": "stdout",
     "output_type": "stream",
     "text": [
      "What it is:\n",
      "A dual-ended cream shaping stick that is buildable and swipes on seamlessly for true-to-skin definition that dries down to a natural matte finish.\n",
      "Ingredient Callouts:\n",
      "It is cruelty-free.\n",
      "What Else You Need to Know:\n",
      "This dual-ended shaping stick combines Mario’s signature contour technique into one product that creates an effortless, softly sculpted look. The shades complement complexions regardless of undertone and are never orange or muddy. They also feature a removable angled buffing brush for effortless application.\n",
      "This product is an Allure Best of Beauty award winner.\n"
     ]
    }
   ],
   "source": [
    "print(soup_content.get_text(separator='\\n', strip = True))"
   ]
  },
  {
   "cell_type": "code",
   "execution_count": 539,
   "id": "83662fe9-34e2-419c-83ad-767af47b0607",
   "metadata": {},
   "outputs": [],
   "source": [
    "for elem in soup_content.find_all([\"a\", \"p\", \"div\", \"h3\", \"br\"]):\n",
    "    elem.replace_with(elem.text + \"\\n\")"
   ]
  },
  {
   "cell_type": "code",
   "execution_count": 540,
   "id": "79b8f478-c4c5-43c0-962d-faaabb3152f6",
   "metadata": {},
   "outputs": [
    {
     "data": {
      "text/plain": [
       "<b>What it is: </b>A dual-ended cream shaping stick that is buildable and swipes on seamlessly for true-to-skin definition that dries down to a natural matte finish.\n",
       "<b>Ingredient Callouts:</b> It is cruelty-free.\n",
       "\n",
       "<b>What Else You Need to Know:</b> This dual-ended shaping stick combines Mario’s signature contour technique into one product that creates an effortless, softly sculpted look. The shades complement complexions regardless of undertone and are never orange or muddy. They also feature a removable angled buffing brush for effortless application.\n",
       "\n",
       "This product is an Allure Best of Beauty award winner."
      ]
     },
     "execution_count": 540,
     "metadata": {},
     "output_type": "execute_result"
    }
   ],
   "source": [
    "soup_content"
   ]
  },
  {
   "cell_type": "code",
   "execution_count": null,
   "id": "989af67f-1a65-44af-8520-270b7cfc78c7",
   "metadata": {},
   "outputs": [],
   "source": []
  }
 ],
 "metadata": {
  "kernelspec": {
   "display_name": "data",
   "language": "python",
   "name": "data"
  },
  "language_info": {
   "codemirror_mode": {
    "name": "ipython",
    "version": 3
   },
   "file_extension": ".py",
   "mimetype": "text/x-python",
   "name": "python",
   "nbconvert_exporter": "python",
   "pygments_lexer": "ipython3",
   "version": "3.9.16"
  }
 },
 "nbformat": 4,
 "nbformat_minor": 5
}
